{
 "cells": [
  {
   "cell_type": "markdown",
   "metadata": {},
   "source": [
    "# Лабораторная работа №7. Дискретное преобразрвание Фурье\n",
    "## Жилкина Лада, 5130901/10202"
   ]
  },
  {
   "cell_type": "code",
   "execution_count": 1,
   "metadata": {},
   "outputs": [],
   "source": [
    "import numpy as np\n",
    "import sys\n",
    "import matplotlib.pyplot as plt\n",
    "from scipy.stats import linregress\n",
    "sys.path.append('../')\n",
    "from thinkdsp import read_wave, decorate, Spectrogram, UncorrelatedGaussianNoise"
   ]
  },
  {
   "cell_type": "markdown",
   "metadata": {},
   "source": [
    "## Упражнение 7.2\n",
    "В этой главе показано, как выразить ДПФ и обратное ДПФ произведениями матриц. Время выполнения этих операций пропорционально N^2, где N - длина массива сигнала. Во многих случаях этого достаточно, но есть алгоритм и побыстрее - быстрое преобразование Фурье (БПФ); время его работы пропорционально Nlog N. Ключ к БПФ - это лемма Дэниелсона-Ланцоша (Danielson- Lanczos).\n",
    "\n",
    "Эта лемма предлагает рекурсивный алгоритм для ДПФ:\n",
    "\n",
    "1. Дан массив сигнала у. Разделим его на четные элементы е и нечетные элементы о.\n",
    "2. Вычислим DFT е и о, делая рекурсивные вызовы.\n",
    "3. Вычислим DFT(y) для каждого значения n, используя лемму Дэниелсона-Ланцоша.\n",
    "\n",
    "В простейшем случае эту рекурсию надо продолжать, пока длина у не дойдет до 1. Тогда DFT(y) = у. А если длина у достаточно мала, можно вычислить его ДПФ перемножением матриц, используя заранее вычисленные матрицы.\n",
    "\n",
    "Для сначала исследуем библиотечную фунукцию FFT. Для небольшого реального сигнала вычислим БПФ сигнал:"
   ]
  },
  {
   "cell_type": "code",
   "execution_count": 3,
   "metadata": {},
   "outputs": [
    {
     "name": "stdout",
     "output_type": "stream",
     "text": [
      "[ 0.2+0.j  -1.2-0.2j  0.2+0.j  -1.2+0.2j]\n"
     ]
    }
   ],
   "source": [
    "ys = [-0.5, 0.1, 0.7, -0.1]\n",
    "hs = np.fft.fft(ys)\n",
    "print(hs)"
   ]
  },
  {
   "cell_type": "markdown",
   "metadata": {},
   "source": [
    "Напишем функцию для вычисления DFT:"
   ]
  },
  {
   "cell_type": "code",
   "execution_count": 4,
   "metadata": {},
   "outputs": [],
   "source": [
    "PI2 = 2 * np.pi\n",
    "\n",
    "def dft(ys):\n",
    "    N = len(ys)\n",
    "    ts = np.arange(N) / N\n",
    "    freqs = np.arange(N)\n",
    "    args = np.outer(ts, freqs)\n",
    "    M = np.exp(1j * PI2 * args)\n",
    "    amps = M.conj().transpose().dot(ys)\n",
    "    return amps"
   ]
  },
  {
   "cell_type": "code",
   "execution_count": 5,
   "metadata": {},
   "outputs": [
    {
     "data": {
      "text/plain": [
       "5.864775846765962e-16"
      ]
     },
     "execution_count": 5,
     "metadata": {},
     "output_type": "execute_result"
    }
   ],
   "source": [
    "hs2 = dft(ys)\n",
    "np.sum(np.abs(hs - hs2))"
   ]
  },
  {
   "cell_type": "markdown",
   "metadata": {},
   "source": [
    "Напишем функцию, которая делит массив пополам и вычисляет БПФ его половин:"
   ]
  },
  {
   "cell_type": "code",
   "execution_count": 6,
   "metadata": {},
   "outputs": [],
   "source": [
    "def fft_norec(ys):\n",
    "    N = len(ys)\n",
    "    He = np.fft.fft(ys[::2])\n",
    "    Ho = np.fft.fft(ys[1::2])\n",
    "    \n",
    "    ns = np.arange(N)\n",
    "    W = np.exp(-1j * PI2 * ns / N)\n",
    "    \n",
    "    return np.tile(He, 2) + W * np.tile(Ho, 2)"
   ]
  },
  {
   "cell_type": "code",
   "execution_count": 7,
   "metadata": {},
   "outputs": [
    {
     "data": {
      "text/plain": [
       "0.0"
      ]
     },
     "execution_count": 7,
     "metadata": {},
     "output_type": "execute_result"
    }
   ],
   "source": [
    "hs3 = fft_norec(ys)\n",
    "np.sum(np.abs(hs - hs3))"
   ]
  },
  {
   "cell_type": "markdown",
   "metadata": {},
   "source": [
    "Результаты совпадают с ожидаемыми.\n",
    "\n",
    "Заменим функцию np.fft.fft на рекурсивные вызовы и протестируем новую функцию вычисления БПФ:"
   ]
  },
  {
   "cell_type": "code",
   "execution_count": 8,
   "metadata": {},
   "outputs": [],
   "source": [
    "def fft(ys):\n",
    "    N = len(ys)\n",
    "    if N == 1:\n",
    "        return ys\n",
    "    \n",
    "    He = fft(ys[::2])\n",
    "    Ho = fft(ys[1::2])\n",
    "    \n",
    "    ns = np.arange(N)\n",
    "    W = np.exp(-1j * PI2 * ns / N)\n",
    "    \n",
    "    return np.tile(He, 2) + W * np.tile(Ho, 2)"
   ]
  },
  {
   "cell_type": "code",
   "execution_count": 9,
   "metadata": {},
   "outputs": [
    {
     "data": {
      "text/plain": [
       "1.6653345369377348e-16"
      ]
     },
     "execution_count": 9,
     "metadata": {},
     "output_type": "execute_result"
    }
   ],
   "source": [
    "hs4 = fft(ys)\n",
    "np.sum(np.abs(hs - hs4))"
   ]
  },
  {
   "cell_type": "markdown",
   "metadata": {},
   "source": [
    "FFT (Fast Fourier Transform) и DFT (Discrete Fourier Transform) - два метода преобразования сигналов из временной области в частотную. FFT быстрее DFT благодаря использованию алгоритма, основанного на разложениях в ряд Фурье. Время работы FFT составляет n log n, в то время как для DFT оно равно n^2. Из-за этого FFT является более эффективным алгоритмом для обработки больших объемов данных при вычислении преобразования Фурье."
   ]
  }
 ],
 "metadata": {
  "kernelspec": {
   "display_name": "Python 3",
   "language": "python",
   "name": "python3"
  },
  "language_info": {
   "codemirror_mode": {
    "name": "ipython",
    "version": 3
   },
   "file_extension": ".py",
   "mimetype": "text/x-python",
   "name": "python",
   "nbconvert_exporter": "python",
   "pygments_lexer": "ipython3",
   "version": "3.11.6"
  }
 },
 "nbformat": 4,
 "nbformat_minor": 2
}
